{
  "nbformat": 4,
  "nbformat_minor": 0,
  "metadata": {
    "colab": {
      "name": "SHA-512.ipynb",
      "provenance": [],
      "authorship_tag": "ABX9TyOE46adaD4/gF2ZPFgjJt8G",
      "include_colab_link": true
    },
    "kernelspec": {
      "name": "python3",
      "display_name": "Python 3"
    },
    "language_info": {
      "name": "python"
    }
  },
  "cells": [
    {
      "cell_type": "markdown",
      "metadata": {
        "id": "view-in-github",
        "colab_type": "text"
      },
      "source": [
        "<a href=\"https://colab.research.google.com/github/BakerStreetPhantom/SHA512-Py/blob/main/SHA_512.ipynb\" target=\"_parent\"><img src=\"https://colab.research.google.com/assets/colab-badge.svg\" alt=\"Open In Colab\"/></a>"
      ]
    },
    {
      "cell_type": "code",
      "execution_count": null,
      "metadata": {
        "id": "1Ad3jO6An2qw"
      },
      "outputs": [],
      "source": [
        "def translate(message):\n",
        "    #string characters to unicode values\n",
        "    charcodes = [ord(c) for c in message]\n",
        "    #unicode values to 8-bit strings (removed binary indicator)\n",
        "    bytes = []\n",
        "    for char in charcodes:\n",
        "        bytes.append(bin(char)[2:].zfill(8))\n",
        "    #8-bit strings to list of bits as integers\n",
        "    bits = []\n",
        "    for byte in bytes:\n",
        "        for bit in byte:\n",
        "            bits.append(int(bit))\n",
        "    return bits"
      ]
    },
    {
      "cell_type": "code",
      "source": [
        "def b2Tob16(value):\n",
        "  #takes list of 32 bits\n",
        "  #convert to string\n",
        "  value = ''.join([str(x) for x in value])\n",
        "  #creat 4 bit chunks, and add bin-indicator\n",
        "  binaries = []\n",
        "  for d in range(0, len(value), 4):\n",
        "    binaries.append('0b' + value[d:d+4])\n",
        "  #transform to hexadecimal and remove hex-indicator\n",
        "  hexes = ''\n",
        "  for b in binaries:\n",
        "    hexes += hex(int(b ,2))[2:]\n",
        "  return hexes"
      ],
      "metadata": {
        "id": "nc7c06SezD82"
      },
      "execution_count": null,
      "outputs": []
    },
    {
      "cell_type": "code",
      "source": [
        "def fillZeros(bits, length=8, endian='LE'):\n",
        "    l = len(bits)\n",
        "    if endian == 'LE':\n",
        "        for i in range(l, length):\n",
        "            bits.append(0)\n",
        "    else: \n",
        "        while l < length:\n",
        "            bits.insert(0, 0)\n",
        "            l = len(bits)\n",
        "    return bits"
      ],
      "metadata": {
        "id": "6nJusNQ30D0n"
      },
      "execution_count": null,
      "outputs": []
    },
    {
      "cell_type": "code",
      "source": [
        "def chunker(bits, chunk_length=8):\n",
        "    chunked = []\n",
        "    for b in range(0, len(bits), chunk_length):\n",
        "        chunked.append(bits[b:b+chunk_length])\n",
        "    return chunked"
      ],
      "metadata": {
        "id": "Z2wdiH3N0dEm"
      },
      "execution_count": null,
      "outputs": []
    },
    {
      "cell_type": "code",
      "source": [
        "def initializer(values):\n",
        "    #convert from hex to python binary string (with cut bin indicator ('0b'))\n",
        "    binaries = [bin(int(v, 16))[2:] for v in values]\n",
        "    #convert from python string representation to a list of 32 bit lists\n",
        "    words = []\n",
        "    for binary in binaries:\n",
        "        word = []\n",
        "        for b in binary:\n",
        "            word.append(int(b))\n",
        "        words.append(fillZeros(word, 64, 'BE'))\n",
        "    return words"
      ],
      "metadata": {
        "id": "QSAdqgqK254K"
      },
      "execution_count": null,
      "outputs": []
    },
    {
      "cell_type": "code",
      "source": [
        "\n",
        "def preprocessMessage(message):\n",
        "    # translate message into bits\n",
        "    bits = translate(message)\n",
        "    #message length \n",
        "    length = len(bits)\n",
        "    # get length in bits  of message (64 bit block)\n",
        "    message_len = [int(b) for b in bin(length)[2:].zfill(128)]\n",
        "    #if length smaller than 448 handle block individually otherwise\n",
        "    #if exactly 448 then add single 1 and add up to 1024 and if longer than 448\n",
        "    #create multiple of 512 - 64 bits for the length at the end of the message (big endian)\n",
        "    if length < 896:\n",
        "        #append single 1\n",
        "        bits.append(1)\n",
        "        #fill zeros little endian wise\n",
        "        bits = fillZeros(bits, 896, 'LE')\n",
        "        #add the 64 bits representing the length of the message\n",
        "        bits = bits + message_len\n",
        "        #return as list\n",
        "        return [bits]\n",
        "    elif length == 896:\n",
        "        bits.append(1)\n",
        "        #moves to next message block - total length = 1024\n",
        "        bits = fillZeros(bits, 1024, 'LE')\n",
        "        #replace the last 64 bits of the multiple of 512 with the original message length\n",
        "        bits[-128:] = message_len\n",
        "        #returns it in 512 bit chunks\n",
        "        return chunker(bits, 1024)\n",
        "    else:\n",
        "        bits.append(1)\n",
        "        # loop until multiple of 512 if message length exceeds 448 bits \n",
        "        while len(bits) % 1024 != 0:\n",
        "            bits.append(0)\n",
        "        #replace the last 64 bits of the multiple of 512 with the original message length\n",
        "        bits[-128:] = message_len\n",
        "    #returns it in 512 bit chunks\n",
        "    return chunker(bits, 1024)"
      ],
      "metadata": {
        "id": "By-e7Ws239kT"
      },
      "execution_count": null,
      "outputs": []
    },
    {
      "cell_type": "code",
      "source": [
        "#truth condition is integer 1\n",
        "def isTrue(x): return x == 1\n",
        "\n",
        "#simple if \n",
        "def if_(i, y, z): return y if isTrue(i) else z\n",
        "\n",
        "#and - both arguments need to be true\n",
        "def and_(i, j): return if_(i, j, 0)\n",
        "def AND(i, j): return [and_(ia, ja) for ia, ja in zip(i,j)] \n",
        "\n",
        "#simply negates argument\n",
        "def not_(i): return if_(i, 0, 1)\n",
        "def NOT(i): return [not_(x) for x in i]\n",
        "\n",
        "#retrun true if either i or j is true but not both at the same time\n",
        "def xor(i, j): return if_(i, not_(j), j)\n",
        "def XOR(i, j): return [xor(ia, ja) for ia, ja in zip(i, j)]\n",
        "\n",
        "#if number of truth values is odd then return true\n",
        "def xorxor(i, j, l): return xor(i, xor(j, l))\n",
        "def XORXOR(i, j, l): return [xorxor(ia, ja, la) for ia, ja, la, in zip(i, j, l)]\n",
        "\n",
        "#get the majority of results, i.e., if 2 or more of three values are the same \n",
        "def maj(i,j,k): return max([i,j,], key=[i,j,k].count)"
      ],
      "metadata": {
        "id": "tMEFMLB-4eO_"
      },
      "execution_count": null,
      "outputs": []
    },
    {
      "cell_type": "code",
      "source": [
        "# rotate right\n",
        "def rotr(x, n): return x[-n:] + x[:-n]\n",
        "# shift right\n",
        "def shr(x, n): return n * [0] + x[:-n]\n",
        "\n",
        "#full binary adder\n",
        "def add(i, j):\n",
        "  length = len(i)\n",
        "  sums = list(range(length))\n",
        "  c = 0\n",
        "  for x in range(length-1,-1,-1):\n",
        "    sums[x] = xorxor(i[x], j[x], c)\n",
        "    c = maj(i[x], j[x], c)\n",
        "  return sums"
      ],
      "metadata": {
        "id": "WkKBbNaT5C7c"
      },
      "execution_count": null,
      "outputs": []
    },
    {
      "cell_type": "code",
      "source": [
        "#... list of constants need to be stored somewhere\n",
        "h_hex = ['0x6a09e667f3bcc908', '0xbb67ae8584caa73b', '0x3c6ef372fe94f82b', '0xa54ff53a5f1d36f1', \n",
        "           '0x510e527fade682d1', '0x9b05688c2b3e6c1f', '0x1f83d9abfb41bd6b', '0x5be0cd19137e2179']\n",
        "K = ['0x428a2f98d728ae22', '0x7137449123ef65cd', '0xb5c0fbcfec4d3b2f', '0xe9b5dba58189dbbc', '0x3956c25bf348b538', \n",
        "            '0x59f111f1b605d019', '0x923f82a4af194f9b', '0xab1c5ed5da6d8118', '0xd807aa98a3030242', '0x12835b0145706fbe', \n",
        "            '0x243185be4ee4b28c', '0x550c7dc3d5ffb4e2', '0x72be5d74f27b896f', '0x80deb1fe3b1696b1', '0x9bdc06a725c71235', \n",
        "            '0xc19bf174cf692694', '0xe49b69c19ef14ad2', '0xefbe4786384f25e3', '0x0fc19dc68b8cd5b5', '0x240ca1cc77ac9c65', \n",
        "            '0x2de92c6f592b0275', '0x4a7484aa6ea6e483', '0x5cb0a9dcbd41fbd4', '0x76f988da831153b5', '0x983e5152ee66dfab', \n",
        "            '0xa831c66d2db43210', '0xb00327c898fb213f', '0xbf597fc7beef0ee4', '0xc6e00bf33da88fc2', '0xd5a79147930aa725', \n",
        "            '0x06ca6351e003826f', '0x142929670a0e6e70', '0x27b70a8546d22ffc', '0x2e1b21385c26c926', '0x4d2c6dfc5ac42aed', \n",
        "            '0x53380d139d95b3df', '0x650a73548baf63de', '0x766a0abb3c77b2a8', '0x81c2c92e47edaee6', '0x92722c851482353b', \n",
        "            '0xa2bfe8a14cf10364', '0xa81a664bbc423001', '0xc24b8b70d0f89791', '0xc76c51a30654be30', '0xd192e819d6ef5218', \n",
        "            '0xd69906245565a910', '0xf40e35855771202a', '0x106aa07032bbd1b8', '0x19a4c116b8d2d0c8', '0x1e376c085141ab53', \n",
        "            '0x2748774cdf8eeb99', '0x34b0bcb5e19b48a8', '0x391c0cb3c5c95a63', '0x4ed8aa4ae3418acb', '0x5b9cca4f7763e373', \n",
        "            '0x682e6ff3d6b2b8a3', '0x748f82ee5defb2fc', '0x78a5636f43172f60', '0x84c87814a1f0ab72', '0x8cc702081a6439ec', \n",
        "            '0x90befffa23631e28', '0xa4506cebde82bde9', '0xbef9a3f7b2c67915', '0xc67178f2e372532b', '0xca273eceea26619c', \n",
        "            '0xd186b8c721c0c207', '0xeada7dd6cde0eb1e', '0xf57d4f7fee6ed178', '0x06f067aa72176fba', '0x0a637dc5a2c898a6', \n",
        "            '0x113f9804bef90dae', '0x1b710b35131c471b', '0x28db77f523047d84', '0x32caab7b40c72493', '0x3c9ebe0a15c9bebc', \n",
        "            '0x431d67c49c100d4c', '0x4cc5d4becb3e42b6', '0x597f299cfc657e2a', '0x5fcb6fab3ad6faec', '0x6c44198c4a475817']\n"
      ],
      "metadata": {
        "id": "OLHpHzlW5bNO"
      },
      "execution_count": null,
      "outputs": []
    },
    {
      "cell_type": "code",
      "source": [
        "def sha512(message): \n",
        "    k = initializer(K)\n",
        "    h0, h1, h2, h3, h4, h5, h6, h7 = initializer(h_hex)\n",
        "    chunks = preprocessMessage(message)\n",
        "    for chunk in chunks:\n",
        "        w = chunker(chunk, 64)\n",
        "        for _ in range(64):\n",
        "            w.append(64 * [0])\n",
        "        for i in range(16, 80):\n",
        "            s0 = XORXOR(rotr(w[i-15], 1), rotr(w[i-15], 8), shr(w[i-15], 7) ) \n",
        "            s1 = XORXOR(rotr(w[i-2], 19), rotr(w[i-2], 61), shr(w[i-2], 6))\n",
        "            w[i] = add(add(add(w[i-16], s0), w[i-7]), s1)\n",
        "        a = h0\n",
        "        b = h1\n",
        "        c = h2\n",
        "        d = h3\n",
        "        e = h4\n",
        "        f = h5\n",
        "        g = h6\n",
        "        h = h7\n",
        "        for j in range(80):\n",
        "            S1 = XORXOR(rotr(e, 14), rotr(e, 18), rotr(e, 41) )\n",
        "            ch = XOR(AND(e, f), AND(NOT(e), g))\n",
        "            temp1 = add(add(add(add(h, S1), ch), k[j]), w[j])\n",
        "            S0 = XORXOR(rotr(a, 28), rotr(a, 34), rotr(a, 39))\n",
        "            m = XORXOR(AND(a, b), AND(a, c), AND(b, c))\n",
        "            temp2 = add(S0, m)\n",
        "            h = g\n",
        "            g = f\n",
        "            f = e\n",
        "            e = add(d, temp1)\n",
        "            d = c\n",
        "            c = b\n",
        "            b = a\n",
        "            a = add(temp1, temp2)\n",
        "        h0 = add(h0, a)\n",
        "        h1 = add(h1, b)\n",
        "        h2 = add(h2, c)\n",
        "        h3 = add(h3, d)\n",
        "        h4 = add(h4, e)\n",
        "        h5 = add(h5, f)\n",
        "        h6 = add(h6, g)\n",
        "        h7 = add(h7, h)\n",
        "    digest = ''\n",
        "    for val in [h0, h1, h2, h3, h4, h5, h6, h7]:\n",
        "        digest += b2Tob16(val)\n",
        "    return digest"
      ],
      "metadata": {
        "id": "YeFPDmeo5pl9"
      },
      "execution_count": null,
      "outputs": []
    },
    {
      "cell_type": "code",
      "source": [
        ""
      ],
      "metadata": {
        "id": "XdTGK61Mm80b"
      },
      "execution_count": null,
      "outputs": []
    }
  ]
}